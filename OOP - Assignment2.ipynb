{
 "cells": [
  {
   "cell_type": "code",
   "execution_count": 1,
   "metadata": {},
   "outputs": [
    {
     "name": "stdout",
     "output_type": "stream",
     "text": [
      "\n",
      "Welcome - We will be finding the sum of first \"n\" positive integers\n",
      "\n",
      "Enter any positive integer i.e n : 8\n",
      "The sum of the first 8 positive integers is 36\n"
     ]
    }
   ],
   "source": [
    "#Q.1 - Code below\n",
    "print('\\nWelcome - We will be finding the sum of first \"n\" positive integers\\n')\n",
    "while True:\n",
    "    try:\n",
    "        n=int(input('Enter any positive integer i.e n : '))\n",
    "        break\n",
    "    except:\n",
    "        print('\\nBad data entered.Please enter the correct data this time.\\n')\n",
    "        continue\n",
    "if n<0:\n",
    "    print('You entered a negative integer. Exiting the program since you should have entered a positive integer.')\n",
    "    exit(keep_kernel=True)\n",
    "elif n==0:\n",
    "    print('The sum of the first 0 positive integers is 0')\n",
    "else:\n",
    "    sum=0\n",
    "    for i in range(1,n+1):\n",
    "        sum=sum+i\n",
    "    print('The sum of the first {0} positive integers is {1}'.format(n,sum))"
   ]
  },
  {
   "cell_type": "code",
   "execution_count": 2,
   "metadata": {},
   "outputs": [
    {
     "name": "stdout",
     "output_type": "stream",
     "text": [
      "\n",
      "Welcome - We will be finding the GCD(Greatest Common Divisor) of two positive integers x and y\n",
      "\n",
      "Enter the first positive integer i.e x : 32\n",
      "Enter the second positive integer i.e y : 20\n",
      "The GCD(Greatest Common Divisor) of two positive integers 32 and 20 is 4\n"
     ]
    }
   ],
   "source": [
    "#Q.2 - Code below\n",
    "import math\n",
    "print('\\nWelcome - We will be finding the GCD(Greatest Common Divisor) of two positive integers x and y\\n')\n",
    "while True:\n",
    "    try:\n",
    "        x=int(input('Enter the first positive integer i.e x : '))\n",
    "        break\n",
    "    except:\n",
    "        print('\\nBad data entered.Please enter the correct data this time.\\n')\n",
    "        continue\n",
    "while True:\n",
    "    try:\n",
    "        y=int(input('Enter the second positive integer i.e y : '))\n",
    "        break\n",
    "    except:\n",
    "        print('\\nBad data entered.Please enter the correct data this time.\\n')\n",
    "        continue\n",
    "if x<=0 or y<=0:\n",
    "    print('Either the entered value of x or y or both was a negative integer or 0. Exiting the program since you should have entered a positive integer.')\n",
    "    exit(keep_kernel=True)\n",
    "else:\n",
    "    gcd=math.gcd(x,y)\n",
    "    print('The GCD(Greatest Common Divisor) of two positive integers {0} and {1} is {2}'.format(x,y,gcd))\n"
   ]
  },
  {
   "cell_type": "code",
   "execution_count": 3,
   "metadata": {},
   "outputs": [
    {
     "name": "stdout",
     "output_type": "stream",
     "text": [
      "\n",
      "Welcome - We will be finding whether the entered positive integer is either prime,composite or neither prime or composite\n",
      "\n",
      "Enter any positive integer i.e n : 17\n",
      "17 is a prime number\n"
     ]
    }
   ],
   "source": [
    "#Q.3 - Code below\n",
    "print('\\nWelcome - We will be finding whether the entered positive integer is either prime,composite or neither prime or composite\\n')\n",
    "count=0\n",
    "while True:\n",
    "    try:\n",
    "        n=int(input('Enter any positive integer i.e n : '))\n",
    "        break\n",
    "    except:\n",
    "        print('\\nBad data entered.Please enter the correct data this time.\\n')\n",
    "        continue\n",
    "if n<0:\n",
    "    print('You entered a negative integer. Exiting the program since you should have entered a positive integer.')\n",
    "    exit(keep_kernel=True)\n",
    "elif n==0 or n==1:\n",
    "    print('{0} is neither prime nor composite'.format(n))\n",
    "else:\n",
    "    for i in range(2,n):\n",
    "        if n%i==0:\n",
    "            count=count+1\n",
    "    if count>0:\n",
    "        print('{0} is a composite number'.format(n))\n",
    "    else:\n",
    "        print('{0} is a prime number'.format(n))"
   ]
  },
  {
   "cell_type": "code",
   "execution_count": 4,
   "metadata": {},
   "outputs": [
    {
     "name": "stdout",
     "output_type": "stream",
     "text": [
      "Enter any positive integer i.e n : 6\n",
      "The square of 1 is 1\n",
      "The square of 2 is 4\n",
      "The square of 3 is 9\n",
      "The square of 4 is 16\n",
      "The square of 5 is 25\n",
      "The square of 6 is 36\n"
     ]
    }
   ],
   "source": [
    "#Q.4 - Code below\n",
    "def print_square(n):\n",
    "    for i in range(1,n+1):\n",
    "        print('The square of {0} is {1}'.format(i,i**2))\n",
    "\n",
    "def main():\n",
    "    while True:\n",
    "        try:\n",
    "            n=int(input('Enter any positive integer i.e n : '))\n",
    "            break\n",
    "        except:\n",
    "            print('\\nBad data entered.Please enter the correct data this time.\\n')\n",
    "            continue\n",
    "    if n<=0:\n",
    "        print('You entered either a negative integer or 0. Exiting the program since you should have entered a positive integer.')\n",
    "        exit(keep_kernel=True)\n",
    "    else:\n",
    "        print_square(n)\n",
    "\n",
    "main()"
   ]
  },
  {
   "cell_type": "code",
   "execution_count": null,
   "metadata": {},
   "outputs": [],
   "source": []
  }
 ],
 "metadata": {
  "kernelspec": {
   "display_name": "Python 3",
   "language": "python",
   "name": "python3"
  },
  "language_info": {
   "codemirror_mode": {
    "name": "ipython",
    "version": 3
   },
   "file_extension": ".py",
   "mimetype": "text/x-python",
   "name": "python",
   "nbconvert_exporter": "python",
   "pygments_lexer": "ipython3",
   "version": "3.7.3"
  }
 },
 "nbformat": 4,
 "nbformat_minor": 2
}
