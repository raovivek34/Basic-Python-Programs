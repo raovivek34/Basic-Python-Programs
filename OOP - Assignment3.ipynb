{
 "cells": [
  {
   "cell_type": "code",
   "execution_count": 1,
   "metadata": {},
   "outputs": [
    {
     "name": "stdout",
     "output_type": "stream",
     "text": [
      "Enter a string : string\n",
      "stringly\n"
     ]
    }
   ],
   "source": [
    "#Q.1 - Code below\n",
    "str=input('Enter a string : ').strip()\n",
    "if len(str)<3:\n",
    "    print(str)\n",
    "else:\n",
    "    if str.endswith('ing'):\n",
    "        print(str+'ly')\n",
    "    else:\n",
    "        print(str+'ing')"
   ]
  },
  {
   "cell_type": "code",
   "execution_count": 3,
   "metadata": {},
   "outputs": [
    {
     "name": "stdout",
     "output_type": "stream",
     "text": [
      "How many elements do you want in the list? : 2\n",
      "Do you want the element to be a sublist - Press 1 for Yes and 0 for No : 1\n",
      "How many elements do you want in the sublist : 2\n",
      "Enter the element in the sublist : vivek\n",
      "Enter the element in the sublist : rao\n",
      "Do you want the element to be a sublist - Press 1 for Yes and 0 for No : 0\n",
      "Enter the element in the list : 5\n",
      "It is true that the list [['vivek', 'rao'], '5'] has a sublist\n"
     ]
    }
   ],
   "source": [
    "#Q.2 - Code below\n",
    "def has_sublist(lst):\n",
    "    count=0\n",
    "    for element in lst:\n",
    "        if type(element)==list:\n",
    "            count=1\n",
    "            print('It is true that the list {0} has a sublist'.format(lst))\n",
    "            break\n",
    "    if count==0:\n",
    "        print('It is false that the list {0} has a sublist'.format(lst))\n",
    "\n",
    "def main():\n",
    "    lst=[]\n",
    "    sub_lst=[]\n",
    "    n=int(input('How many elements do you want in the list? : '))\n",
    "    for i in range(n):\n",
    "        choice=input('Do you want the element to be a sublist - Press 1 for Yes and 0 for No : ')\n",
    "        if choice=='1':\n",
    "            x=int(input('How many elements do you want in the sublist : '))\n",
    "            for a in range(x):\n",
    "                sub_lst.append(input('Enter the element in the sublist : '))\n",
    "            lst.append(sub_lst)\n",
    "        elif choice=='0':\n",
    "            y=input('Enter the element in the list : ')\n",
    "            lst.append(y)\n",
    "    has_sublist(lst)\n",
    "\n",
    "main()\n"
   ]
  },
  {
   "cell_type": "code",
   "execution_count": 4,
   "metadata": {
    "hideOutput": true
   },
   "outputs": [
    {
     "name": "stdout",
     "output_type": "stream",
     "text": [
      "Enter a sequence of words separated by commas : hey,ram,how,are,yot\n",
      "['are', 'hey', 'how', 'ram', 'yot']\n"
     ]
    }
   ],
   "source": [
    "#Q.3 - Code below\n",
    "x=input('Enter a sequence of words separated by commas : ')\n",
    "lst=list(set(x.split(',')))\n",
    "lst.sort()\n",
    "print(lst)\n"
   ]
  },
  {
   "cell_type": "code",
   "execution_count": 5,
   "metadata": {},
   "outputs": [
    {
     "name": "stdout",
     "output_type": "stream",
     "text": [
      "Enter a string : code till i die\n",
      "{'C': 1, 'O': 1, 'D': 2, 'E': 2, 'T': 1, 'I': 3, 'L': 2}\n"
     ]
    }
   ],
   "source": [
    "#Q.4 - Code below\n",
    "import string\n",
    "str=input('Enter a string : ')\n",
    "str=str.upper()\n",
    "my_dict={}\n",
    "for i in str:\n",
    "    if i in string.ascii_letters:\n",
    "        my_dict[i]=my_dict.get(i,0)+1\n",
    "print(my_dict)"
   ]
  },
  {
   "cell_type": "code",
   "execution_count": 6,
   "metadata": {},
   "outputs": [
    {
     "name": "stdout",
     "output_type": "stream",
     "text": [
      "Add an entry to the first set or seq1 - Please avoid adding duplicate entries : 5\n",
      "Do you want to add more entries to the first set or seq1 - If Yes press 1 and No press 0 : 1\n",
      "Add an entry to the first set or seq1 - Please avoid adding duplicate entries : 3\n",
      "Do you want to add more entries to the first set or seq1 - If Yes press 1 and No press 0 : 1\n",
      "Add an entry to the first set or seq1 - Please avoid adding duplicate entries : 4\n",
      "Do you want to add more entries to the first set or seq1 - If Yes press 1 and No press 0 : 1\n",
      "Add an entry to the first set or seq1 - Please avoid adding duplicate entries : 7\n",
      "Do you want to add more entries to the first set or seq1 - If Yes press 1 and No press 0 : 0\n",
      "The first sequence or seq1 looks like this : {'5', '3', '4', '7'}\n",
      "Add an entry to the second set or seq2 - Please avoid adding duplicate entries : 3\n",
      "Do you want to add more entries to the second set or seq2 - If Yes press 1 and No press 0 : 1\n",
      "Add an entry to the second set or seq2 - Please avoid adding duplicate entries : 4\n",
      "Do you want to add more entries to the second set or seq2 - If Yes press 1 and No press 0 : 1\n",
      "Add an entry to the second set or seq2 - Please avoid adding duplicate entries : 9\n",
      "Do you want to add more entries to the second set or seq2 - If Yes press 1 and No press 0 : 1\n",
      "Add an entry to the second set or seq2 - Please avoid adding duplicate entries : 2\n",
      "Do you want to add more entries to the second set or seq2 - If Yes press 1 and No press 0 : 1\n",
      "Add an entry to the second set or seq2 - Please avoid adding duplicate entries : 5\n",
      "Do you want to add more entries to the second set or seq2 - If Yes press 1 and No press 0 : 0\n",
      "The second sequence or seq2 looks like this : {'5', '3', '2', '9', '4'}\n",
      "All elements that occur in seq1 but not in seq2 are ['7']\n",
      "All elements that occur in seq2 but not in seq1 are ['2', '9']\n",
      "All elements in the two sequences combined are ['5', '3', '2', '9', '7', '4']\n",
      "All elements that occur in both sequences are ['5', '3', '4']\n",
      "Neither\n"
     ]
    }
   ],
   "source": [
    "#Q.5 - Code below\n",
    "def compare_seq(seq1,seq2):\n",
    "    print('All elements that occur in seq1 but not in seq2 are {0}'.format(list(seq1-seq2)))\n",
    "    print('All elements that occur in seq2 but not in seq1 are {0}'.format(list(seq2-seq1)))\n",
    "    print('All elements in the two sequences combined are {0}'.format(list(seq1.union(seq2))))\n",
    "    print('All elements that occur in both sequences are {0}'.format(list(seq1.intersection(seq2))))\n",
    "    if seq1==seq2:\n",
    "        print('Equal')\n",
    "    elif seq2.issubset(seq1):\n",
    "        print('Greater')\n",
    "    elif seq1.issubset(seq2):\n",
    "        print('Lesser')\n",
    "    else:\n",
    "        print('Neither')\n",
    "\n",
    "def main():\n",
    "    seq1=set()\n",
    "    seq2=set()\n",
    "    while True:\n",
    "        x=input('Add an entry to the first set or seq1 - Please avoid adding duplicate entries : ')\n",
    "        seq1.add(x)\n",
    "        choice=input('Do you want to add more entries to the first set or seq1 - If Yes press 1 and No press 0 : ')\n",
    "        if choice=='1':\n",
    "            continue\n",
    "        elif choice=='0':\n",
    "            break\n",
    "    print('The first sequence or seq1 looks like this : {0}'.format(seq1))\n",
    "    while True:\n",
    "        y=input('Add an entry to the second set or seq2 - Please avoid adding duplicate entries : ')\n",
    "        seq2.add(y)\n",
    "        choice=input('Do you want to add more entries to the second set or seq2 - If Yes press 1 and No press 0 : ')\n",
    "        if choice=='1':\n",
    "            continue\n",
    "        elif choice=='0':\n",
    "            break\n",
    "    print('The second sequence or seq2 looks like this : {0}'.format(seq2))\n",
    "\n",
    "    compare_seq(seq1,seq2)\n",
    "\n",
    "main()\n"
   ]
  }
 ],
 "metadata": {
  "kernelspec": {
   "display_name": "Python 3",
   "language": "python",
   "name": "python3"
  },
  "language_info": {
   "codemirror_mode": {
    "name": "ipython",
    "version": 3
   },
   "file_extension": ".py",
   "mimetype": "text/x-python",
   "name": "python",
   "nbconvert_exporter": "python",
   "pygments_lexer": "ipython3",
   "version": "3.7.3"
  }
 },
 "nbformat": 4,
 "nbformat_minor": 2
}
