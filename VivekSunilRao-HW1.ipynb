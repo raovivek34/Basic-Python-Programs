{
 "cells": [
  {
   "cell_type": "code",
   "execution_count": 3,
   "metadata": {},
   "outputs": [
    {
     "name": "stdout",
     "output_type": "stream",
     "text": [
      "\n",
      "Welcome to the Number Reversal Machine.\n",
      "Note : Only four digit integers allowed.\n",
      "\n",
      "Enter a four digit integer here : xoxox\n",
      "\n",
      "Bad data entered. Please enter the correct data.\n",
      "\n",
      "Enter a four digit integer here : 1010\n",
      "\n",
      "Number after reversal is 0101\n"
     ]
    }
   ],
   "source": [
    "#Q.1 - Code below\n",
    "print('\\nWelcome to the Number Reversal Machine.\\nNote : Only four digit integers allowed.\\n')\n",
    "while True:\n",
    "    try:\n",
    "        number=int(input('Enter a four digit integer here : ')) #Here used int() to convert string type to integer type so that if the code gives you an error here, then it means that the entered value was something other than an integer.\n",
    "        break\n",
    "    except:\n",
    "        print('\\nBad data entered. Please enter the correct data.\\n')\n",
    "        continue\n",
    "if len(str(number))==4:\n",
    "    print('\\nNumber after reversal is {0}'.format(str(number)[::-1])) #Reversed number here\n",
    "else:\n",
    "    print('You should have entered a four digit integer. Exiting the program.')\n",
    "    exit(keep_kernel=True)\n"
   ]
  },
  {
   "cell_type": "code",
   "execution_count": 5,
   "metadata": {},
   "outputs": [
    {
     "name": "stdout",
     "output_type": "stream",
     "text": [
      "\n",
      "Welcome\n",
      "\n",
      "Enter the first number : 1\n",
      "Enter the second number : 1\n",
      "Enter the third number : 1\n",
      "Since all the entered numbers are same - total is thrice their sum = 9.0\n"
     ]
    }
   ],
   "source": [
    "#Q.2 - Code below\n",
    "print('\\nWelcome\\n')\n",
    "while True:\n",
    "    try:\n",
    "        x=float(input('Enter the first number : ')) #Here used float() to convert string type to float type hence giving a user friendly error message when user enters anything other than a number.\n",
    "        break\n",
    "    except:\n",
    "        print('\\nBad data entered. Please enter the correct data.\\n')\n",
    "        continue\n",
    "while True:\n",
    "    try:\n",
    "        y=float(input('Enter the second number : '))\n",
    "        break\n",
    "    except:\n",
    "        print('\\nBad data entered. Please enter the correct data.\\n')\n",
    "        continue\n",
    "while True:\n",
    "    try:\n",
    "        z=float(input('Enter the third number : '))\n",
    "        break\n",
    "    except:\n",
    "        print('\\nBad data entered. Please enter the correct data.\\n')\n",
    "        continue\n",
    "if x==y and y==z:\n",
    "    total=3*(x+y+z)\n",
    "    print('Since all the entered numbers are same - total is thrice their sum = {0}'.format(total))\n",
    "else:\n",
    "    total=4*(x+y+z)\n",
    "    print('Since all the entered numbers are not same - total is four times their sum = {0}'.format(total))\n"
   ]
  },
  {
   "cell_type": "code",
   "execution_count": 6,
   "metadata": {},
   "outputs": [
    {
     "name": "stdout",
     "output_type": "stream",
     "text": [
      "Enter the first number : 10\n",
      "Enter the second number : 12\n",
      "Enter the third number : 4\n",
      "The median of the three numbers is 10.0\n"
     ]
    }
   ],
   "source": [
    "#Q.3 - Code below\n",
    "import statistics\n",
    "while True:\n",
    "    try:\n",
    "        x=float(input('Enter the first number : ')) #Here used float() to convert string type to float type hence giving a user friendly error message when user enters anything other than a number.\n",
    "        break\n",
    "    except:\n",
    "        print('\\nBad data entered. Please enter the correct data.\\n')\n",
    "        continue\n",
    "while True:\n",
    "    try:\n",
    "        y=float(input('Enter the second number : '))\n",
    "        break\n",
    "    except:\n",
    "        print('\\nBad data entered. Please enter the correct data.\\n')\n",
    "        continue\n",
    "while True:\n",
    "    try:\n",
    "        z=float(input('Enter the third number : '))\n",
    "        break\n",
    "    except:\n",
    "        print('\\nBad data entered. Please enter the correct data.\\n')\n",
    "        continue\n",
    "median=statistics.median([x,y,z])\n",
    "print('The median of the three numbers is {0}'.format(median))\n"
   ]
  },
  {
   "cell_type": "code",
   "execution_count": 7,
   "metadata": {},
   "outputs": [
    {
     "name": "stdout",
     "output_type": "stream",
     "text": [
      "\n",
      "Does the point lie inside the rectangle? True or False - Lets check \n",
      "\n",
      "Enter x1 : 9\n",
      "Enter y1 : 5\n",
      "Enter x2 : 4\n",
      "Enter y2 : 3\n",
      "Enter x : 2\n",
      "Enter y : 4\n",
      "False\n",
      "The point lies outside or on the rectangle\n"
     ]
    }
   ],
   "source": [
    "#Q.4 - Code below\n",
    "import math\n",
    "print('\\nDoes the point lie inside the rectangle? True or False - Lets check \\n')\n",
    "while True:\n",
    "    try:\n",
    "        x1=float(input('Enter x1 : ')) #Here used float() to convert string type to float type hence giving a user friendly error message when user enters anything other than a number.\n",
    "        break\n",
    "    except:\n",
    "        print('\\nBad data entered. Please enter the correct data.\\n')\n",
    "        continue\n",
    "while True:\n",
    "    try:\n",
    "        y1=float(input('Enter y1 : '))\n",
    "        break\n",
    "    except:\n",
    "        print('\\nBad data entered. Please enter the correct data.\\n')\n",
    "        continue\n",
    "while True:\n",
    "    try:\n",
    "        x2=float(input('Enter x2 : '))\n",
    "        break\n",
    "    except:\n",
    "        print('\\nBad data entered. Please enter the correct data.\\n')\n",
    "        continue\n",
    "while True:\n",
    "    try:\n",
    "        y2=float(input('Enter y2 : ')) #Here used float() to convert string type to float type hence giving a user friendly error message when user enters anything other than a number.\n",
    "        break\n",
    "    except:\n",
    "        print('\\nBad data entered. Please enter the correct data.\\n')\n",
    "        continue\n",
    "while True:\n",
    "    try:\n",
    "        x=float(input('Enter x : '))\n",
    "        break\n",
    "    except:\n",
    "        print('\\nBad data entered. Please enter the correct data.\\n')\n",
    "        continue\n",
    "while True:\n",
    "    try:\n",
    "        y=float(input('Enter y : '))\n",
    "        break\n",
    "    except:\n",
    "        print('\\nBad data entered. Please enter the correct data.\\n')\n",
    "        continue\n",
    "if min(x1,x2)<x<max(x1,x2) and min(y1,y2)<y<max(y1,y2):\n",
    "    print('True')\n",
    "    print('The point ({0},{1}) lies inside the rectangle'.format(x,y))\n",
    "else:\n",
    "    print('False')\n",
    "    print('The point lies outside or on the rectangle')\n"
   ]
  },
  {
   "cell_type": "code",
   "execution_count": null,
   "metadata": {},
   "outputs": [],
   "source": []
  }
 ],
 "metadata": {
  "kernelspec": {
   "display_name": "Python 3",
   "language": "python",
   "name": "python3"
  },
  "language_info": {
   "codemirror_mode": {
    "name": "ipython",
    "version": 3
   },
   "file_extension": ".py",
   "mimetype": "text/x-python",
   "name": "python",
   "nbconvert_exporter": "python",
   "pygments_lexer": "ipython3",
   "version": "3.7.3"
  }
 },
 "nbformat": 4,
 "nbformat_minor": 2
}
